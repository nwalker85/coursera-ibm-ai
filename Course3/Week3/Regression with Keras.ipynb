{
 "nbformat": 4,
 "nbformat_minor": 2,
 "metadata": {
  "language_info": {
   "name": "python",
   "codemirror_mode": {
    "name": "ipython",
    "version": 3
   },
   "version": "3.7.3"
  },
  "orig_nbformat": 2,
  "file_extension": ".py",
  "mimetype": "text/x-python",
  "name": "python",
  "npconvert_exporter": "python",
  "pygments_lexer": "ipython3",
  "version": 3
 },
 "cells": [
  {
   "source": [
    "import numpy as np"
   ],
   "cell_type": "code",
   "outputs": [],
   "metadata": {},
   "execution_count": 16
  },
  {
   "source": [
    "import pandas as pd"
   ],
   "cell_type": "code",
   "outputs": [],
   "metadata": {},
   "execution_count": 17
  },
  {
   "source": [
    "concrete_data = pd.read_csv('https://s3-api.us-geo.objectstorage.softlayer.net/cf-courses-data/CognitiveClass/DL0101EN/labs/data/concrete_data.csv')\n",
    "concrete_data.head()"
   ],
   "cell_type": "code",
   "outputs": [
    {
     "output_type": "execute_result",
     "data": {
      "text/plain": "   Cement  Blast Furnace Slag  Fly Ash  Water  Superplasticizer  \\\n0   540.0                 0.0      0.0  162.0               2.5   \n1   540.0                 0.0      0.0  162.0               2.5   \n2   332.5               142.5      0.0  228.0               0.0   \n3   332.5               142.5      0.0  228.0               0.0   \n4   198.6               132.4      0.0  192.0               0.0   \n\n   Coarse Aggregate  Fine Aggregate  Age  Strength  \n0            1040.0           676.0   28     79.99  \n1            1055.0           676.0   28     61.89  \n2             932.0           594.0  270     40.27  \n3             932.0           594.0  365     41.05  \n4             978.4           825.5  360     44.30  ",
      "text/html": "<div>\n<style scoped>\n    .dataframe tbody tr th:only-of-type {\n        vertical-align: middle;\n    }\n\n    .dataframe tbody tr th {\n        vertical-align: top;\n    }\n\n    .dataframe thead th {\n        text-align: right;\n    }\n</style>\n<table border=\"1\" class=\"dataframe\">\n  <thead>\n    <tr style=\"text-align: right;\">\n      <th></th>\n      <th>Cement</th>\n      <th>Blast Furnace Slag</th>\n      <th>Fly Ash</th>\n      <th>Water</th>\n      <th>Superplasticizer</th>\n      <th>Coarse Aggregate</th>\n      <th>Fine Aggregate</th>\n      <th>Age</th>\n      <th>Strength</th>\n    </tr>\n  </thead>\n  <tbody>\n    <tr>\n      <th>0</th>\n      <td>540.0</td>\n      <td>0.0</td>\n      <td>0.0</td>\n      <td>162.0</td>\n      <td>2.5</td>\n      <td>1040.0</td>\n      <td>676.0</td>\n      <td>28</td>\n      <td>79.99</td>\n    </tr>\n    <tr>\n      <th>1</th>\n      <td>540.0</td>\n      <td>0.0</td>\n      <td>0.0</td>\n      <td>162.0</td>\n      <td>2.5</td>\n      <td>1055.0</td>\n      <td>676.0</td>\n      <td>28</td>\n      <td>61.89</td>\n    </tr>\n    <tr>\n      <th>2</th>\n      <td>332.5</td>\n      <td>142.5</td>\n      <td>0.0</td>\n      <td>228.0</td>\n      <td>0.0</td>\n      <td>932.0</td>\n      <td>594.0</td>\n      <td>270</td>\n      <td>40.27</td>\n    </tr>\n    <tr>\n      <th>3</th>\n      <td>332.5</td>\n      <td>142.5</td>\n      <td>0.0</td>\n      <td>228.0</td>\n      <td>0.0</td>\n      <td>932.0</td>\n      <td>594.0</td>\n      <td>365</td>\n      <td>41.05</td>\n    </tr>\n    <tr>\n      <th>4</th>\n      <td>198.6</td>\n      <td>132.4</td>\n      <td>0.0</td>\n      <td>192.0</td>\n      <td>0.0</td>\n      <td>978.4</td>\n      <td>825.5</td>\n      <td>360</td>\n      <td>44.30</td>\n    </tr>\n  </tbody>\n</table>\n</div>"
     },
     "metadata": {},
     "execution_count": 18
    }
   ],
   "metadata": {},
   "execution_count": 18
  },
  {
   "source": [
    "concrete_data.describe()"
   ],
   "cell_type": "code",
   "outputs": [
    {
     "output_type": "execute_result",
     "data": {
      "text/plain": "            Cement  Blast Furnace Slag      Fly Ash        Water  \\\ncount  1030.000000         1030.000000  1030.000000  1030.000000   \nmean    281.167864           73.895825    54.188350   181.567282   \nstd     104.506364           86.279342    63.997004    21.354219   \nmin     102.000000            0.000000     0.000000   121.800000   \n25%     192.375000            0.000000     0.000000   164.900000   \n50%     272.900000           22.000000     0.000000   185.000000   \n75%     350.000000          142.950000   118.300000   192.000000   \nmax     540.000000          359.400000   200.100000   247.000000   \n\n       Superplasticizer  Coarse Aggregate  Fine Aggregate          Age  \\\ncount       1030.000000       1030.000000     1030.000000  1030.000000   \nmean           6.204660        972.918932      773.580485    45.662136   \nstd            5.973841         77.753954       80.175980    63.169912   \nmin            0.000000        801.000000      594.000000     1.000000   \n25%            0.000000        932.000000      730.950000     7.000000   \n50%            6.400000        968.000000      779.500000    28.000000   \n75%           10.200000       1029.400000      824.000000    56.000000   \nmax           32.200000       1145.000000      992.600000   365.000000   \n\n          Strength  \ncount  1030.000000  \nmean     35.817961  \nstd      16.705742  \nmin       2.330000  \n25%      23.710000  \n50%      34.445000  \n75%      46.135000  \nmax      82.600000  ",
      "text/html": "<div>\n<style scoped>\n    .dataframe tbody tr th:only-of-type {\n        vertical-align: middle;\n    }\n\n    .dataframe tbody tr th {\n        vertical-align: top;\n    }\n\n    .dataframe thead th {\n        text-align: right;\n    }\n</style>\n<table border=\"1\" class=\"dataframe\">\n  <thead>\n    <tr style=\"text-align: right;\">\n      <th></th>\n      <th>Cement</th>\n      <th>Blast Furnace Slag</th>\n      <th>Fly Ash</th>\n      <th>Water</th>\n      <th>Superplasticizer</th>\n      <th>Coarse Aggregate</th>\n      <th>Fine Aggregate</th>\n      <th>Age</th>\n      <th>Strength</th>\n    </tr>\n  </thead>\n  <tbody>\n    <tr>\n      <th>count</th>\n      <td>1030.000000</td>\n      <td>1030.000000</td>\n      <td>1030.000000</td>\n      <td>1030.000000</td>\n      <td>1030.000000</td>\n      <td>1030.000000</td>\n      <td>1030.000000</td>\n      <td>1030.000000</td>\n      <td>1030.000000</td>\n    </tr>\n    <tr>\n      <th>mean</th>\n      <td>281.167864</td>\n      <td>73.895825</td>\n      <td>54.188350</td>\n      <td>181.567282</td>\n      <td>6.204660</td>\n      <td>972.918932</td>\n      <td>773.580485</td>\n      <td>45.662136</td>\n      <td>35.817961</td>\n    </tr>\n    <tr>\n      <th>std</th>\n      <td>104.506364</td>\n      <td>86.279342</td>\n      <td>63.997004</td>\n      <td>21.354219</td>\n      <td>5.973841</td>\n      <td>77.753954</td>\n      <td>80.175980</td>\n      <td>63.169912</td>\n      <td>16.705742</td>\n    </tr>\n    <tr>\n      <th>min</th>\n      <td>102.000000</td>\n      <td>0.000000</td>\n      <td>0.000000</td>\n      <td>121.800000</td>\n      <td>0.000000</td>\n      <td>801.000000</td>\n      <td>594.000000</td>\n      <td>1.000000</td>\n      <td>2.330000</td>\n    </tr>\n    <tr>\n      <th>25%</th>\n      <td>192.375000</td>\n      <td>0.000000</td>\n      <td>0.000000</td>\n      <td>164.900000</td>\n      <td>0.000000</td>\n      <td>932.000000</td>\n      <td>730.950000</td>\n      <td>7.000000</td>\n      <td>23.710000</td>\n    </tr>\n    <tr>\n      <th>50%</th>\n      <td>272.900000</td>\n      <td>22.000000</td>\n      <td>0.000000</td>\n      <td>185.000000</td>\n      <td>6.400000</td>\n      <td>968.000000</td>\n      <td>779.500000</td>\n      <td>28.000000</td>\n      <td>34.445000</td>\n    </tr>\n    <tr>\n      <th>75%</th>\n      <td>350.000000</td>\n      <td>142.950000</td>\n      <td>118.300000</td>\n      <td>192.000000</td>\n      <td>10.200000</td>\n      <td>1029.400000</td>\n      <td>824.000000</td>\n      <td>56.000000</td>\n      <td>46.135000</td>\n    </tr>\n    <tr>\n      <th>max</th>\n      <td>540.000000</td>\n      <td>359.400000</td>\n      <td>200.100000</td>\n      <td>247.000000</td>\n      <td>32.200000</td>\n      <td>1145.000000</td>\n      <td>992.600000</td>\n      <td>365.000000</td>\n      <td>82.600000</td>\n    </tr>\n  </tbody>\n</table>\n</div>"
     },
     "metadata": {},
     "execution_count": 20
    }
   ],
   "metadata": {},
   "execution_count": 20
  },
  {
   "source": [
    "concrete_data.shape"
   ],
   "cell_type": "code",
   "outputs": [
    {
     "output_type": "execute_result",
     "data": {
      "text/plain": "(1030, 9)"
     },
     "metadata": {},
     "execution_count": 19
    }
   ],
   "metadata": {},
   "execution_count": 19
  },
  {
   "source": [
    "concrete_data.isnull().sum()"
   ],
   "cell_type": "code",
   "outputs": [
    {
     "output_type": "execute_result",
     "data": {
      "text/plain": "Cement                0\nBlast Furnace Slag    0\nFly Ash               0\nWater                 0\nSuperplasticizer      0\nCoarse Aggregate      0\nFine Aggregate        0\nAge                   0\nStrength              0\ndtype: int64"
     },
     "metadata": {},
     "execution_count": 21
    }
   ],
   "metadata": {},
   "execution_count": 21
  },
  {
   "source": [
    "concrete_data_columns = concrete_data.columns\n",
    "\n",
    "predictors = concrete_data[concrete_data_columns[concrete_data_columns != 'Strength']] # all columns except Strength\n",
    "target = concrete_data['Strength'] # Strength column"
   ],
   "cell_type": "code",
   "outputs": [],
   "metadata": {},
   "execution_count": 22
  },
  {
   "source": [
    "predictors.head()"
   ],
   "cell_type": "code",
   "outputs": [
    {
     "output_type": "execute_result",
     "data": {
      "text/plain": "   Cement  Blast Furnace Slag  Fly Ash  Water  Superplasticizer  \\\n0   540.0                 0.0      0.0  162.0               2.5   \n1   540.0                 0.0      0.0  162.0               2.5   \n2   332.5               142.5      0.0  228.0               0.0   \n3   332.5               142.5      0.0  228.0               0.0   \n4   198.6               132.4      0.0  192.0               0.0   \n\n   Coarse Aggregate  Fine Aggregate  Age  \n0            1040.0           676.0   28  \n1            1055.0           676.0   28  \n2             932.0           594.0  270  \n3             932.0           594.0  365  \n4             978.4           825.5  360  ",
      "text/html": "<div>\n<style scoped>\n    .dataframe tbody tr th:only-of-type {\n        vertical-align: middle;\n    }\n\n    .dataframe tbody tr th {\n        vertical-align: top;\n    }\n\n    .dataframe thead th {\n        text-align: right;\n    }\n</style>\n<table border=\"1\" class=\"dataframe\">\n  <thead>\n    <tr style=\"text-align: right;\">\n      <th></th>\n      <th>Cement</th>\n      <th>Blast Furnace Slag</th>\n      <th>Fly Ash</th>\n      <th>Water</th>\n      <th>Superplasticizer</th>\n      <th>Coarse Aggregate</th>\n      <th>Fine Aggregate</th>\n      <th>Age</th>\n    </tr>\n  </thead>\n  <tbody>\n    <tr>\n      <th>0</th>\n      <td>540.0</td>\n      <td>0.0</td>\n      <td>0.0</td>\n      <td>162.0</td>\n      <td>2.5</td>\n      <td>1040.0</td>\n      <td>676.0</td>\n      <td>28</td>\n    </tr>\n    <tr>\n      <th>1</th>\n      <td>540.0</td>\n      <td>0.0</td>\n      <td>0.0</td>\n      <td>162.0</td>\n      <td>2.5</td>\n      <td>1055.0</td>\n      <td>676.0</td>\n      <td>28</td>\n    </tr>\n    <tr>\n      <th>2</th>\n      <td>332.5</td>\n      <td>142.5</td>\n      <td>0.0</td>\n      <td>228.0</td>\n      <td>0.0</td>\n      <td>932.0</td>\n      <td>594.0</td>\n      <td>270</td>\n    </tr>\n    <tr>\n      <th>3</th>\n      <td>332.5</td>\n      <td>142.5</td>\n      <td>0.0</td>\n      <td>228.0</td>\n      <td>0.0</td>\n      <td>932.0</td>\n      <td>594.0</td>\n      <td>365</td>\n    </tr>\n    <tr>\n      <th>4</th>\n      <td>198.6</td>\n      <td>132.4</td>\n      <td>0.0</td>\n      <td>192.0</td>\n      <td>0.0</td>\n      <td>978.4</td>\n      <td>825.5</td>\n      <td>360</td>\n    </tr>\n  </tbody>\n</table>\n</div>"
     },
     "metadata": {},
     "execution_count": 23
    }
   ],
   "metadata": {},
   "execution_count": 23
  },
  {
   "source": [
    "target.head()"
   ],
   "cell_type": "code",
   "outputs": [
    {
     "output_type": "execute_result",
     "data": {
      "text/plain": "0    79.99\n1    61.89\n2    40.27\n3    41.05\n4    44.30\nName: Strength, dtype: float64"
     },
     "metadata": {},
     "execution_count": 24
    }
   ],
   "metadata": {},
   "execution_count": 24
  },
  {
   "source": [
    "predictors_norm = (predictors - predictors.mean()) / predictors.std()\n",
    "predictors_norm.head()"
   ],
   "cell_type": "code",
   "outputs": [
    {
     "output_type": "execute_result",
     "data": {
      "text/plain": "     Cement  Blast Furnace Slag   Fly Ash     Water  Superplasticizer  \\\n0  2.476712           -0.856472 -0.846733 -0.916319         -0.620147   \n1  2.476712           -0.856472 -0.846733 -0.916319         -0.620147   \n2  0.491187            0.795140 -0.846733  2.174405         -1.038638   \n3  0.491187            0.795140 -0.846733  2.174405         -1.038638   \n4 -0.790075            0.678079 -0.846733  0.488555         -1.038638   \n\n   Coarse Aggregate  Fine Aggregate       Age  \n0          0.862735       -1.217079 -0.279597  \n1          1.055651       -1.217079 -0.279597  \n2         -0.526262       -2.239829  3.551340  \n3         -0.526262       -2.239829  5.055221  \n4          0.070492        0.647569  4.976069  ",
      "text/html": "<div>\n<style scoped>\n    .dataframe tbody tr th:only-of-type {\n        vertical-align: middle;\n    }\n\n    .dataframe tbody tr th {\n        vertical-align: top;\n    }\n\n    .dataframe thead th {\n        text-align: right;\n    }\n</style>\n<table border=\"1\" class=\"dataframe\">\n  <thead>\n    <tr style=\"text-align: right;\">\n      <th></th>\n      <th>Cement</th>\n      <th>Blast Furnace Slag</th>\n      <th>Fly Ash</th>\n      <th>Water</th>\n      <th>Superplasticizer</th>\n      <th>Coarse Aggregate</th>\n      <th>Fine Aggregate</th>\n      <th>Age</th>\n    </tr>\n  </thead>\n  <tbody>\n    <tr>\n      <th>0</th>\n      <td>2.476712</td>\n      <td>-0.856472</td>\n      <td>-0.846733</td>\n      <td>-0.916319</td>\n      <td>-0.620147</td>\n      <td>0.862735</td>\n      <td>-1.217079</td>\n      <td>-0.279597</td>\n    </tr>\n    <tr>\n      <th>1</th>\n      <td>2.476712</td>\n      <td>-0.856472</td>\n      <td>-0.846733</td>\n      <td>-0.916319</td>\n      <td>-0.620147</td>\n      <td>1.055651</td>\n      <td>-1.217079</td>\n      <td>-0.279597</td>\n    </tr>\n    <tr>\n      <th>2</th>\n      <td>0.491187</td>\n      <td>0.795140</td>\n      <td>-0.846733</td>\n      <td>2.174405</td>\n      <td>-1.038638</td>\n      <td>-0.526262</td>\n      <td>-2.239829</td>\n      <td>3.551340</td>\n    </tr>\n    <tr>\n      <th>3</th>\n      <td>0.491187</td>\n      <td>0.795140</td>\n      <td>-0.846733</td>\n      <td>2.174405</td>\n      <td>-1.038638</td>\n      <td>-0.526262</td>\n      <td>-2.239829</td>\n      <td>5.055221</td>\n    </tr>\n    <tr>\n      <th>4</th>\n      <td>-0.790075</td>\n      <td>0.678079</td>\n      <td>-0.846733</td>\n      <td>0.488555</td>\n      <td>-1.038638</td>\n      <td>0.070492</td>\n      <td>0.647569</td>\n      <td>4.976069</td>\n    </tr>\n  </tbody>\n</table>\n</div>"
     },
     "metadata": {},
     "execution_count": 25
    }
   ],
   "metadata": {},
   "execution_count": 25
  },
  {
   "source": [
    "n_cols = predictors_norm.shape[1] # number of predictors"
   ],
   "cell_type": "code",
   "outputs": [],
   "metadata": {},
   "execution_count": 26
  },
  {
   "source": [
    "from keras.models import Sequential\n",
    "from keras.layers import Dense"
   ],
   "cell_type": "code",
   "outputs": [],
   "metadata": {},
   "execution_count": 27
  },
  {
   "source": [
    "# define regression model\n",
    "def regression_model():\n",
    "    # create model\n",
    "    model = Sequential()\n",
    "    model.add(Dense(50, activation='relu', input_shape=(n_cols,)))\n",
    "    model.add(Dense(50, activation='relu'))\n",
    "    model.add(Dense(1))\n",
    "    \n",
    "    # compile model\n",
    "    model.compile(optimizer='adam', loss='mean_squared_error')\n",
    "    return model"
   ],
   "cell_type": "code",
   "outputs": [],
   "metadata": {},
   "execution_count": 28
  },
  {
   "source": [
    "# build the model\n",
    "model = regression_model()"
   ],
   "cell_type": "code",
   "outputs": [],
   "metadata": {},
   "execution_count": 29
  },
  {
   "source": [
    "# fit the model\n",
    "model.fit(predictors_norm, target, validation_split=0.3, epochs=100, verbose=2)"
   ],
   "cell_type": "code",
   "outputs": [
    {
     "output_type": "stream",
     "name": "stdout",
     "text": "WARNING:tensorflow:From /home/nate/.local/lib/python3.7/site-packages/keras/backend/tensorflow_backend.py:422: The name tf.global_variables is deprecated. Please use tf.compat.v1.global_variables instead.\n\nTrain on 721 samples, validate on 309 samples\nEpoch 1/100\n - 0s - loss: 1647.5276 - val_loss: 1135.4138\nEpoch 2/100\n - 0s - loss: 1518.5582 - val_loss: 1004.4984\nEpoch 3/100\n - 0s - loss: 1306.5810 - val_loss: 804.6180\nEpoch 4/100\n - 0s - loss: 987.2122 - val_loss: 555.3846\nEpoch 5/100\n - 0s - loss: 623.5881 - val_loss: 341.6442\nEpoch 6/100\n - 0s - loss: 370.3263 - val_loss: 232.9132\nEpoch 7/100\n - 0s - loss: 276.0057 - val_loss: 197.2060\nEpoch 8/100\n - 0s - loss: 247.4864 - val_loss: 179.7651\nEpoch 9/100\n - 0s - loss: 227.5439 - val_loss: 173.0243\nEpoch 10/100\n - 0s - loss: 212.3458 - val_loss: 166.6363\nEpoch 11/100\n - 0s - loss: 201.5854 - val_loss: 162.0132\nEpoch 12/100\n - 0s - loss: 192.5214 - val_loss: 160.3099\nEpoch 13/100\n - 0s - loss: 185.4290 - val_loss: 157.9342\nEpoch 14/100\n - 0s - loss: 178.4378 - val_loss: 154.7375\nEpoch 15/100\n - 0s - loss: 173.2675 - val_loss: 154.2771\nEpoch 16/100\n - 0s - loss: 168.7952 - val_loss: 156.0650\nEpoch 17/100\n - 0s - loss: 164.1380 - val_loss: 153.7337\nEpoch 18/100\n - 0s - loss: 161.7192 - val_loss: 154.2786\nEpoch 19/100\n - 0s - loss: 157.0885 - val_loss: 153.9816\nEpoch 20/100\n - 0s - loss: 154.8838 - val_loss: 154.0025\nEpoch 21/100\n - 0s - loss: 152.2611 - val_loss: 153.1249\nEpoch 22/100\n - 0s - loss: 149.9952 - val_loss: 153.2075\nEpoch 23/100\n - 0s - loss: 147.7345 - val_loss: 153.6708\nEpoch 24/100\n - 0s - loss: 145.9423 - val_loss: 154.0288\nEpoch 25/100\n - 0s - loss: 143.8019 - val_loss: 155.4176\nEpoch 26/100\n - 0s - loss: 142.6211 - val_loss: 155.2257\nEpoch 27/100\n - 0s - loss: 140.7587 - val_loss: 155.0126\nEpoch 28/100\n - 0s - loss: 139.3305 - val_loss: 153.6016\nEpoch 29/100\n - 0s - loss: 138.0592 - val_loss: 156.0674\nEpoch 30/100\n - 0s - loss: 137.0777 - val_loss: 157.9547\nEpoch 31/100\n - 0s - loss: 135.7184 - val_loss: 152.9767\nEpoch 32/100\n - 0s - loss: 133.6535 - val_loss: 153.9518\nEpoch 33/100\n - 0s - loss: 132.6385 - val_loss: 154.0977\nEpoch 34/100\n - 0s - loss: 131.3804 - val_loss: 155.6940\nEpoch 35/100\n - 0s - loss: 129.7423 - val_loss: 156.3966\nEpoch 36/100\n - 0s - loss: 128.5868 - val_loss: 156.3508\nEpoch 37/100\n - 0s - loss: 127.0534 - val_loss: 157.4453\nEpoch 38/100\n - 0s - loss: 125.8034 - val_loss: 155.1741\nEpoch 39/100\n - 0s - loss: 124.0564 - val_loss: 153.7854\nEpoch 40/100\n - 0s - loss: 122.5594 - val_loss: 157.4664\nEpoch 41/100\n - 0s - loss: 121.0424 - val_loss: 157.0436\nEpoch 42/100\n - 0s - loss: 119.2027 - val_loss: 156.9199\nEpoch 43/100\n - 0s - loss: 117.6000 - val_loss: 154.9991\nEpoch 44/100\n - 0s - loss: 115.4600 - val_loss: 155.2434\nEpoch 45/100\n - 0s - loss: 112.8699 - val_loss: 158.8455\nEpoch 46/100\n - 0s - loss: 111.0696 - val_loss: 154.2180\nEpoch 47/100\n - 0s - loss: 109.0997 - val_loss: 153.1897\nEpoch 48/100\n - 0s - loss: 106.7134 - val_loss: 156.6498\nEpoch 49/100\n - 0s - loss: 104.4791 - val_loss: 157.2992\nEpoch 50/100\n - 0s - loss: 101.8936 - val_loss: 154.5174\nEpoch 51/100\n - 0s - loss: 99.9641 - val_loss: 156.8934\nEpoch 52/100\n - 0s - loss: 96.6803 - val_loss: 155.0732\nEpoch 53/100\n - 0s - loss: 94.0909 - val_loss: 152.8783\nEpoch 54/100\n - 0s - loss: 92.0210 - val_loss: 153.2658\nEpoch 55/100\n - 0s - loss: 89.1753 - val_loss: 155.5209\nEpoch 56/100\n - 0s - loss: 86.8151 - val_loss: 154.8178\nEpoch 57/100\n - 0s - loss: 84.2825 - val_loss: 150.1082\nEpoch 58/100\n - 0s - loss: 81.6378 - val_loss: 156.1422\nEpoch 59/100\n - 0s - loss: 79.8161 - val_loss: 150.6388\nEpoch 60/100\n - 0s - loss: 77.9533 - val_loss: 156.2411\nEpoch 61/100\n - 0s - loss: 75.1589 - val_loss: 148.1081\nEpoch 62/100\n - 0s - loss: 73.0481 - val_loss: 147.1171\nEpoch 63/100\n - 0s - loss: 70.7214 - val_loss: 151.5027\nEpoch 64/100\n - 0s - loss: 68.5102 - val_loss: 150.4097\nEpoch 65/100\n - 0s - loss: 67.1935 - val_loss: 147.4368\nEpoch 66/100\n - 0s - loss: 64.7065 - val_loss: 147.4600\nEpoch 67/100\n - 0s - loss: 62.9296 - val_loss: 149.1365\nEpoch 68/100\n - 0s - loss: 61.2073 - val_loss: 146.7211\nEpoch 69/100\n - 0s - loss: 58.9902 - val_loss: 141.4641\nEpoch 70/100\n - 0s - loss: 57.3134 - val_loss: 145.3860\nEpoch 71/100\n - 0s - loss: 55.6324 - val_loss: 150.4273\nEpoch 72/100\n - 0s - loss: 54.5059 - val_loss: 145.3176\nEpoch 73/100\n - 0s - loss: 52.4290 - val_loss: 141.1943\nEpoch 74/100\n - 0s - loss: 51.0339 - val_loss: 147.8742\nEpoch 75/100\n - 0s - loss: 49.5826 - val_loss: 140.3795\nEpoch 76/100\n - 0s - loss: 48.7792 - val_loss: 142.0979\nEpoch 77/100\n - 0s - loss: 47.5322 - val_loss: 144.8086\nEpoch 78/100\n - 0s - loss: 46.3603 - val_loss: 147.3993\nEpoch 79/100\n - 0s - loss: 45.9061 - val_loss: 143.2397\nEpoch 80/100\n - 0s - loss: 45.0780 - val_loss: 150.4125\nEpoch 81/100\n - 0s - loss: 44.3320 - val_loss: 142.6650\nEpoch 82/100\n - 0s - loss: 43.7557 - val_loss: 149.7390\nEpoch 83/100\n - 0s - loss: 42.6088 - val_loss: 149.7835\nEpoch 84/100\n - 0s - loss: 42.1932 - val_loss: 137.6342\nEpoch 85/100\n - 0s - loss: 41.9658 - val_loss: 153.1858\nEpoch 86/100\n - 0s - loss: 41.1432 - val_loss: 144.5979\nEpoch 87/100\n - 0s - loss: 40.6813 - val_loss: 143.0008\nEpoch 88/100\n - 0s - loss: 40.1896 - val_loss: 139.8481\nEpoch 89/100\n - 0s - loss: 39.7118 - val_loss: 147.7576\nEpoch 90/100\n - 0s - loss: 38.7267 - val_loss: 155.3456\nEpoch 91/100\n - 0s - loss: 38.4504 - val_loss: 142.0284\nEpoch 92/100\n - 0s - loss: 38.4075 - val_loss: 147.0893\nEpoch 93/100\n - 0s - loss: 37.8678 - val_loss: 145.4663\nEpoch 94/100\n - 0s - loss: 37.2745 - val_loss: 147.4648\nEpoch 95/100\n - 0s - loss: 36.6619 - val_loss: 147.8647\nEpoch 96/100\n - 0s - loss: 36.5458 - val_loss: 153.9942\nEpoch 97/100\n - 0s - loss: 36.1367 - val_loss: 149.8969\nEpoch 98/100\n - 0s - loss: 35.6529 - val_loss: 151.5625\nEpoch 99/100\n - 0s - loss: 35.0625 - val_loss: 148.2470\nEpoch 100/100\n - 0s - loss: 35.3491 - val_loss: 153.3160\n"
    },
    {
     "output_type": "execute_result",
     "data": {
      "text/plain": "<keras.callbacks.callbacks.History at 0x7f8532f2ef60>"
     },
     "metadata": {},
     "execution_count": 30
    }
   ],
   "metadata": {},
   "execution_count": 30
  },
  {
   "cell_type": "code",
   "execution_count": null,
   "metadata": {},
   "outputs": [],
   "source": []
  },
  {
   "source": [
    "import keras"
   ],
   "cell_type": "code",
   "outputs": [],
   "metadata": {},
   "execution_count": 15
  }
 ]
}