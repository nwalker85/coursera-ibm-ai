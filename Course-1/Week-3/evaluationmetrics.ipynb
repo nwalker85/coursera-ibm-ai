{
 "cells": [
  {
   "cell_type": "markdown",
   "metadata": {},
   "source": [
    "Jaccard index\n",
    "\n",
    "Union\n",
    "The union of two sets is a new set that contains all of the elements that are in at least one of the two sets. The union is written as A∪B or “A or B”.\n",
    "\n",
    "Intersection\n",
    "The intersection of two sets is a new set that contains all of the elements that are in both sets. The intersection is written as A∩B or “A and B”.\n",
    "\n",
    "y = actual labels\n",
    "y_hat = predicted labels\n",
    "def jaccard(y, y_hat):\n",
    "    abs(y.union(y_hat))/(abs(y)+abs(y_hat)-abs(y.union(y_hat)))\n",
    "    "
   ]
  },
  {
   "cell_type": "markdown",
   "metadata": {},
   "source": [
    "Confusion Matrix\n",
    "\n",
    "F1-score\n",
    "\n",
    "True Positives, False Negatives, False Positives, True Negatives\n",
    "\n",
    "churn = 1 | 6 | 9\n",
    "\n",
    "churn = 0 | 1 | 24\n",
    "\n",
    "x | churn = 1 | churn = 0\n",
    "\n",
    "On your y axis, you have churn = 1 and 0.\n",
    "the model predicted a churn of one 6 times, and a churn of zero 9 times, when the data was one.\n",
    "this is potentially a bad model, with a high error\n",
    "tthe model predicted a churn of zero 24 times and a churn of 1 once, when the data was zero.\n",
    "this potentially means the model is able to more accurately predict 0 than 1.\n",
    "\n",
    "precision = TP/(TP+FP)\n",
    "\n",
    "recall = TP/(TP+FN)\n",
    "\n",
    "F1-score = 2x(prc x rec) / (prc + rec)\n",
    "\n",
    "in this example, TP = 6, FN = 9, FP = 1, TN = 24"
   ]
  },
  {
   "cell_type": "code",
   "execution_count": 12,
   "metadata": {},
   "outputs": [
    {
     "name": "stdout",
     "output_type": "stream",
     "text": [
      "Label:  precision recall f1-score\n",
      "Churn = 1:  0.8571428571428571 0.4 0.5454545454545455\n",
      "Churn = 0:  0.7272727272727273 0.96 0.8275862068965517\n",
      "average accuracy:  0.7318278052223005\n"
     ]
    }
   ],
   "source": [
    "\n",
    "tp = 6\n",
    "fn = 9\n",
    "fp = 1\n",
    "tn = 24\n",
    "\n",
    "prc1 = tp/(tp+fp)\n",
    "rec1 = tp/(tp+fn)\n",
    "f1score1 = 2*(prc1*rec1)/(prc1+rec1)\n",
    "print(\"Label: \", \"precision\", \"recall\", \"f1-score\")\n",
    "print(\"Churn = 1: \", prc1, rec1, f1score1)\n",
    "\n",
    "tp = 24\n",
    "fn = 1\n",
    "fp = 9\n",
    "tn = 6\n",
    "\n",
    "prc2 = tp/(tp+fp)\n",
    "rec2 = tp/(tp+fn)\n",
    "f1score2 = 2*(prc2*rec2)/(prc2+rec2)\n",
    "print(\"Churn = 0: \", prc2, rec2, f1score2)\n",
    "\n",
    "avgprc = (prc1+prc2)/2\n",
    "avgrec = (rec1+rec2)/2\n",
    "avgf1 = 2*(avgprc*avgrec)/(avgprc+avgrec)\n",
    "print(\"average accuracy: \", avgf1)"
   ]
  },
  {
   "cell_type": "markdown",
   "metadata": {},
   "source": [
    "Log loss\n",
    "\n",
    "used with logistical regression\n",
    "\n",
    "where predicted values are between 0-1\n",
    "\n",
    "logloss = (-1/n)Σ(y * log(ŷ)+(1-y) * log(1-ŷ))\n",
    "\n",
    "log loss close to zero is more accurate\n",
    "\n",
    "\n"
   ]
  },
  {
   "cell_type": "code",
   "execution_count": null,
   "metadata": {},
   "outputs": [],
   "source": []
  }
 ],
 "metadata": {
  "file_extension": ".py",
  "kernelspec": {
   "display_name": "Python 3",
   "language": "python",
   "name": "python3"
  },
  "language_info": {
   "codemirror_mode": {
    "name": "ipython",
    "version": 3
   },
   "file_extension": ".py",
   "mimetype": "text/x-python",
   "name": "python",
   "nbconvert_exporter": "python",
   "pygments_lexer": "ipython3",
   "version": "3.7.4"
  },
  "mimetype": "text/x-python",
  "name": "python",
  "npconvert_exporter": "python",
  "pygments_lexer": "ipython3",
  "version": 3
 },
 "nbformat": 4,
 "nbformat_minor": 2
}
