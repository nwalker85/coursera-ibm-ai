{
 "cells": [
  {
   "cell_type": "code",
   "execution_count": 3,
   "metadata": {},
   "outputs": [],
   "source": [
    "import itertools\n",
    "import numpy as np\n",
    "import matplotlib.pyplot as plt\n",
    "from matplotlib.ticker import NullFormatter\n",
    "import pandas as pd\n",
    "import numpy as np\n",
    "import matplotlib.ticker as ticker\n",
    "from sklearn import preprocessing\n",
    "from sklearn.metrics import jaccard_similarity_score\n",
    "from sklearn.metrics import log_loss\n",
    "from sklearn.metrics import f1_score\n",
    "from sklearn.tree import DecisionTreeClassifier\n",
    "from sklearn.model_selection import train_test_split\n",
    "from sklearn import svm\n",
    "from sklearn.linear_model import LogisticRegression\n",
    "%matplotlib inline\n",
    "   \n",
    "df = pd.read_csv('loan_train.csv')\n",
    "\n",
    "df['Gender'].replace(to_replace=['male','female'], value=[0,1],inplace=True)\n",
    "df['loan_status'].replace(to_replace=['COLLECTION','PAIDOFF'], value=[0,1],inplace=True)\n",
    "df['due_date'] = pd.to_datetime(df['due_date'])\n",
    "df['effective_date'] = pd.to_datetime(df['effective_date'])\n",
    "df['dayofweek'] = df['effective_date'].dt.dayofweek\n",
    "df['weekend'] = df['dayofweek'].apply(lambda x: 1 if (x>3)  else 0)\n",
    "\n",
    "Feature = df[['Principal','terms','age','Gender','weekend']]\n",
    "Feature = pd.concat([Feature,pd.get_dummies(df['education'])], axis=1)\n",
    "Feature.drop(['Master or Above'], axis = 1,inplace=True)\n",
    "\n",
    "X = Feature\n",
    "y = df['loan_status'].values\n",
    "X = preprocessing.StandardScaler().fit(X).transform(X)"
   ]
  },
  {
   "cell_type": "code",
   "execution_count": 4,
   "metadata": {},
   "outputs": [],
   "source": [
    "X_train, X_test, y_train, y_test = train_test_split( X, y, test_size=0.2, random_state=4)"
   ]
  },
  {
   "cell_type": "code",
   "execution_count": 5,
   "metadata": {},
   "outputs": [],
   "source": [
    "LR = LogisticRegression(C=0.01, solver='liblinear').fit(X_train,y_train)"
   ]
  },
  {
   "cell_type": "code",
   "execution_count": 6,
   "metadata": {},
   "outputs": [],
   "source": [
    "yhat = LR.predict(X_test)"
   ]
  },
  {
   "cell_type": "code",
   "execution_count": 7,
   "metadata": {},
   "outputs": [
    {
     "data": {
      "text/plain": [
       "array([[0.5034238 , 0.4965762 ],\n",
       "       [0.45206111, 0.54793889],\n",
       "       [0.30814132, 0.69185868],\n",
       "       [0.34259428, 0.65740572],\n",
       "       [0.32025894, 0.67974106],\n",
       "       [0.31680537, 0.68319463],\n",
       "       [0.48830185, 0.51169815],\n",
       "       [0.47823073, 0.52176927],\n",
       "       [0.34259428, 0.65740572],\n",
       "       [0.4934056 , 0.5065944 ],\n",
       "       [0.33806706, 0.66193294],\n",
       "       [0.49662231, 0.50337769],\n",
       "       [0.24891907, 0.75108093],\n",
       "       [0.3419095 , 0.6580905 ],\n",
       "       [0.43751789, 0.56248211],\n",
       "       [0.25760497, 0.74239503],\n",
       "       [0.52357188, 0.47642812],\n",
       "       [0.30450278, 0.69549722],\n",
       "       [0.50166363, 0.49833637],\n",
       "       [0.3195971 , 0.6804029 ],\n",
       "       [0.44276988, 0.55723012],\n",
       "       [0.49410185, 0.50589815],\n",
       "       [0.51350333, 0.48649667],\n",
       "       [0.47203498, 0.52796502],\n",
       "       [0.40944694, 0.59055306],\n",
       "       [0.50846442, 0.49153558],\n",
       "       [0.51098415, 0.48901585],\n",
       "       [0.37457647, 0.62542353],\n",
       "       [0.50418423, 0.49581577],\n",
       "       [0.25299635, 0.74700365],\n",
       "       [0.46824113, 0.53175887],\n",
       "       [0.46024688, 0.53975312],\n",
       "       [0.46206917, 0.53793083],\n",
       "       [0.48402425, 0.51597575],\n",
       "       [0.38818191, 0.61181809],\n",
       "       [0.45821326, 0.54178674],\n",
       "       [0.50166363, 0.49833637],\n",
       "       [0.28973585, 0.71026415],\n",
       "       [0.4569882 , 0.5430118 ],\n",
       "       [0.45494718, 0.54505282],\n",
       "       [0.50670462, 0.49329538],\n",
       "       [0.32179362, 0.67820638],\n",
       "       [0.45245776, 0.54754224],\n",
       "       [0.50846442, 0.49153558],\n",
       "       [0.30664231, 0.69335769],\n",
       "       [0.49515584, 0.50484416],\n",
       "       [0.47075244, 0.52924756],\n",
       "       [0.49662231, 0.50337769],\n",
       "       [0.45571125, 0.54428875],\n",
       "       [0.45567623, 0.54432377],\n",
       "       [0.27794059, 0.72205941],\n",
       "       [0.46744865, 0.53255135],\n",
       "       [0.30501081, 0.69498919],\n",
       "       [0.48906194, 0.51093806],\n",
       "       [0.28058426, 0.71941574],\n",
       "       [0.24921106, 0.75078894],\n",
       "       [0.31522806, 0.68477194],\n",
       "       [0.43036995, 0.56963005],\n",
       "       [0.46824113, 0.53175887],\n",
       "       [0.33513632, 0.66486368],\n",
       "       [0.41925226, 0.58074774],\n",
       "       [0.33133167, 0.66866833],\n",
       "       [0.45821326, 0.54178674],\n",
       "       [0.52608635, 0.47391365],\n",
       "       [0.32399805, 0.67600195],\n",
       "       [0.49410185, 0.50589815],\n",
       "       [0.33133167, 0.66866833],\n",
       "       [0.41737926, 0.58262074],\n",
       "       [0.44996108, 0.55003892],\n",
       "       [0.32399805, 0.67600195]])"
      ]
     },
     "execution_count": 7,
     "metadata": {},
     "output_type": "execute_result"
    }
   ],
   "source": [
    "yhat_prob = LR.predict_proba(X_test)\n",
    "yhat_prob"
   ]
  },
  {
   "cell_type": "code",
   "execution_count": 8,
   "metadata": {},
   "outputs": [],
   "source": [
    "test_df = pd.read_csv('loan_test.csv')"
   ]
  },
  {
   "cell_type": "code",
   "execution_count": 9,
   "metadata": {},
   "outputs": [],
   "source": [
    "test_df['Gender'].replace(to_replace=['male','female'], value=[0,1],inplace=True)\n",
    "test_df['loan_status'].replace(to_replace=['COLLECTION','PAIDOFF'], value=[0,1],inplace=True)\n",
    "test_df['due_date'] = pd.to_datetime(test_df['due_date'])\n",
    "test_df['effective_date'] = pd.to_datetime(test_df['effective_date'])\n",
    "test_df['dayofweek'] = test_df['effective_date'].dt.dayofweek\n",
    "test_df['weekend'] = test_df['dayofweek'].apply(lambda x: 1 if (x>3)  else 0)\n",
    "\n",
    "test_Feature = test_df[['Principal','terms','age','Gender','weekend']]\n",
    "test_Feature = pd.concat([test_Feature,pd.get_dummies(test_df['education'])], axis=1)\n",
    "test_Feature.drop(['Master or Above'], axis = 1,inplace=True)\n",
    "\n",
    "test_X = test_Feature\n",
    "test_y = test_df['loan_status'].values\n",
    "test_X = preprocessing.StandardScaler().fit(test_X).transform(test_X)"
   ]
  },
  {
   "cell_type": "code",
   "execution_count": 18,
   "metadata": {},
   "outputs": [],
   "source": [
    "test_yhat = LR.predict(test_X)"
   ]
  },
  {
   "cell_type": "code",
   "execution_count": 19,
   "metadata": {},
   "outputs": [],
   "source": [
    "test_yhat_prob = LR.predict_proba(test_X)"
   ]
  },
  {
   "cell_type": "code",
   "execution_count": 20,
   "metadata": {},
   "outputs": [
    {
     "data": {
      "text/plain": [
       "8.954690079543372"
      ]
     },
     "execution_count": 20,
     "metadata": {},
     "output_type": "execute_result"
    }
   ],
   "source": [
    "log_loss(test_y, test_yhat)"
   ]
  },
  {
   "cell_type": "code",
   "execution_count": 21,
   "metadata": {},
   "outputs": [
    {
     "name": "stderr",
     "output_type": "stream",
     "text": [
      "/Users/nwalker/opt/anaconda3/lib/python3.7/site-packages/sklearn/metrics/classification.py:635: DeprecationWarning: jaccard_similarity_score has been deprecated and replaced with jaccard_score. It will be removed in version 0.23. This implementation has surprising behavior for binary and multiclass classification tasks.\n",
      "  'and multiclass classification tasks.', DeprecationWarning)\n"
     ]
    },
    {
     "data": {
      "text/plain": [
       "0.7407407407407407"
      ]
     },
     "execution_count": 21,
     "metadata": {},
     "output_type": "execute_result"
    }
   ],
   "source": [
    "jaccard_similarity_score(test_y, test_yhat)"
   ]
  },
  {
   "cell_type": "code",
   "execution_count": 22,
   "metadata": {},
   "outputs": [
    {
     "data": {
      "text/plain": [
       "0.6604267310789049"
      ]
     },
     "execution_count": 22,
     "metadata": {},
     "output_type": "execute_result"
    }
   ],
   "source": [
    "f1_score(test_y, test_yhat, average='weighted')"
   ]
  }
 ],
 "metadata": {
  "kernelspec": {
   "display_name": "Python 3",
   "language": "python",
   "name": "python3"
  },
  "language_info": {
   "codemirror_mode": {
    "name": "ipython",
    "version": 3
   },
   "file_extension": ".py",
   "mimetype": "text/x-python",
   "name": "python",
   "nbconvert_exporter": "python",
   "pygments_lexer": "ipython3",
   "version": "3.7.4"
  }
 },
 "nbformat": 4,
 "nbformat_minor": 2
}
