{
 "nbformat": 4,
 "nbformat_minor": 2,
 "metadata": {
  "language_info": {
   "name": "python",
   "codemirror_mode": {
    "name": "ipython",
    "version": 3
   },
   "version": "3.7.3"
  },
  "orig_nbformat": 2,
  "file_extension": ".py",
  "mimetype": "text/x-python",
  "name": "python",
  "npconvert_exporter": "python",
  "pygments_lexer": "ipython3",
  "version": 3
 },
 "cells": [
  {
   "source": [
    "import torch"
   ],
   "cell_type": "code",
   "outputs": [],
   "metadata": {},
   "execution_count": 2
  },
  {
   "source": [
    "# derivatives\n",
    "\n",
    "# find the derivative of y(x)=x^2 where x=0\n",
    "\n",
    "x=torch.tensor(2.0,requires_grad=True)"
   ],
   "cell_type": "code",
   "outputs": [],
   "metadata": {},
   "execution_count": 21
  },
  {
   "source": [
    "y = x**2\n",
    "\n",
    "y.backward()"
   ],
   "cell_type": "code",
   "outputs": [],
   "metadata": {},
   "execution_count": 22
  },
  {
   "source": [
    "x.grad"
   ],
   "cell_type": "code",
   "outputs": [
    {
     "output_type": "execute_result",
     "data": {
      "text/plain": "tensor(4.)"
     },
     "metadata": {},
     "execution_count": 23
    }
   ],
   "metadata": {},
   "execution_count": 23
  },
  {
   "cell_type": "code",
   "execution_count": null,
   "metadata": {},
   "outputs": [],
   "source": []
  }
 ]
}