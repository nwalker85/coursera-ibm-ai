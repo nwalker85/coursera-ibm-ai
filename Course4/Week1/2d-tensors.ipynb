{
 "nbformat": 4,
 "nbformat_minor": 2,
 "metadata": {
  "language_info": {
   "name": "python",
   "codemirror_mode": {
    "name": "ipython",
    "version": 3
   },
   "version": "3.7.3"
  },
  "orig_nbformat": 2,
  "file_extension": ".py",
  "mimetype": "text/x-python",
  "name": "python",
  "npconvert_exporter": "python",
  "pygments_lexer": "ipython3",
  "version": 3
 },
 "cells": [
  {
   "source": [
    "import torch"
   ],
   "cell_type": "code",
   "outputs": [],
   "metadata": {},
   "execution_count": 3
  },
  {
   "source": [
    "a = [[11,12,13],[21,22,23],[31,32,33]]\n",
    "A = torch.tensor(a)\n",
    "print(A)"
   ],
   "cell_type": "code",
   "outputs": [
    {
     "output_type": "stream",
     "name": "stdout",
     "text": "tensor([[11, 12, 13],\n        [21, 22, 23],\n        [31, 32, 33]])\n"
    }
   ],
   "metadata": {},
   "execution_count": 5
  },
  {
   "source": [
    "print(A.ndimension()) # aka rank\n",
    "print(A.shape)\n",
    "print(A.size()) # use size method to get shape attribute\n",
    "print(A.numel()) # total number of elements"
   ],
   "cell_type": "code",
   "outputs": [
    {
     "output_type": "stream",
     "name": "stdout",
     "text": "2\ntorch.Size([3, 3])\ntorch.Size([3, 3])\n9\n"
    }
   ],
   "metadata": {},
   "execution_count": 11
  },
  {
   "source": [
    "print(A[0][0])\n",
    "print(A[1][1])\n",
    "print(A[2][2])"
   ],
   "cell_type": "code",
   "outputs": [
    {
     "output_type": "stream",
     "name": "stdout",
     "text": "tensor(11)\ntensor(22)\ntensor(33)\n"
    }
   ],
   "metadata": {},
   "execution_count": 14
  },
  {
   "source": [
    "x = [[1,0],[0,1]]\n",
    "y = [[2,1],[3,2]]\n",
    "x, y = torch.tensor(x), torch.tensor(y)\n",
    "\n",
    "z=x+y\n",
    "print(z)\n",
    "\n",
    "z=x-y\n",
    "print(z)\n",
    "\n",
    "#hadamard product\n",
    "z=x*y\n",
    "print(z)\n",
    "\n",
    "z=x/y\n",
    "print(z)\n",
    "\n",
    "z=x+1\n",
    "print(z)"
   ],
   "cell_type": "code",
   "outputs": [
    {
     "output_type": "stream",
     "name": "stdout",
     "text": "tensor([[3, 1],\n        [3, 3]])\ntensor([[-1, -1],\n        [-3, -1]])\ntensor([[2, 0],\n        [0, 2]])\ntensor([[0, 0],\n        [0, 0]])\ntensor([[2, 1],\n        [1, 2]])\n"
    }
   ],
   "metadata": {},
   "execution_count": 21
  },
  {
   "source": [
    "#true matrix multiplication is more complicated than just *\n",
    "\n",
    "A = [[0,1,1],[1,0,1]]\n",
    "B = [[1,1],[1,1],[-1,1]]\n",
    "A, B = torch.tensor(A), torch.tensor(B)\n",
    "C = torch.mm(A,B)\n",
    "print(C)"
   ],
   "cell_type": "code",
   "outputs": [
    {
     "output_type": "stream",
     "name": "stdout",
     "text": "tensor([[0, 2],\n        [0, 2]])\n"
    }
   ],
   "metadata": {},
   "execution_count": 24
  },
  {
   "source": [
    "# Practice\n",
    "\n",
    "a=torch.tensor([[0,1,1],[1,0,1]])\n",
    "print(a.size())\n",
    "print(a.ndimension())"
   ],
   "cell_type": "code",
   "outputs": [
    {
     "output_type": "stream",
     "name": "stdout",
     "text": "torch.Size([2, 3])\n2\n"
    }
   ],
   "metadata": {},
   "execution_count": 25
  },
  {
   "source": [
    "A = torch.tensor([[0, 1, 1], [1, 0, 1]])\n",
    "B = torch.tensor([[1, 1], [1, 1], [-1, 1]])\n",
    "A_times_B = torch.mm(A,B)\n",
    "print(A_times_B)"
   ],
   "cell_type": "code",
   "outputs": [
    {
     "output_type": "stream",
     "name": "stdout",
     "text": "tensor([[0, 2],\n        [0, 2]])\n"
    }
   ],
   "metadata": {},
   "execution_count": 28
  },
  {
   "cell_type": "code",
   "execution_count": null,
   "metadata": {},
   "outputs": [],
   "source": []
  }
 ]
}